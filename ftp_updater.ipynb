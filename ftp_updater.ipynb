{
 "cells": [
  {
   "cell_type": "code",
   "execution_count": 52,
   "metadata": {},
   "outputs": [],
   "source": [
    "# import ftplib\n",
    "# from config import Config\n",
    "import ftplib\n",
    "import os\n",
    "import re\n",
    "\n",
    "%run -i config.py"
   ]
  },
  {
   "cell_type": "code",
   "execution_count": 59,
   "metadata": {},
   "outputs": [
    {
     "name": "stdout",
     "output_type": "stream",
     "text": [
      "12-01-21  12:15AM                11376 calendar_dates.txt\n",
      "12-04-21  12:09AM               945347 GTFS_Rail_Nextrain.zip\n",
      "03-10-16  05:43PM                    0 hi.zip\n",
      "03-10-16  05:44PM                    0 hii.zip\n",
      "Getting calendar_dates.txt\n"
     ]
    }
   ],
   "source": [
    "ftp = ftplib.FTP(Config.SERVER)\n",
    "ftp.login(Config.USERNAME, Config.PASS)\n",
    "\n",
    "directory =\"/nextbus/prod/\"\n",
    "filematch = '*.txt'\n",
    "ftp.cwd(directory)\n",
    "ftp.retrlines(\"LIST\")\n",
    "os.chdir(\"data/\")\n",
    "\n",
    "for filename in ftp.nlst(filematch): # Loop - looking for matching files\n",
    "    fhandle = open(filename, 'wb')\n",
    "    print('Getting ' + filename) #for confort sake, shows the file that's being retrieved\n",
    "    ftp.retrbinary('RETR ' + filename, fhandle.write)\n",
    "    fhandle.close()\n"
   ]
  }
 ],
 "metadata": {
  "interpreter": {
   "hash": "63fd5069d213b44bf678585dea6b12cceca9941eaf7f819626cde1f2670de90d"
  },
  "kernelspec": {
   "display_name": "Python 3.9.7 64-bit",
   "language": "python",
   "name": "python3"
  },
  "language_info": {
   "codemirror_mode": {
    "name": "ipython",
    "version": 3
   },
   "file_extension": ".py",
   "mimetype": "text/x-python",
   "name": "python",
   "nbconvert_exporter": "python",
   "pygments_lexer": "ipython3",
   "version": "3.9.5"
  },
  "orig_nbformat": 4
 },
 "nbformat": 4,
 "nbformat_minor": 2
}
